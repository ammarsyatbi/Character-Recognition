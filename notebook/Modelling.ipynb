{
 "cells": [
  {
   "cell_type": "code",
   "execution_count": null,
   "metadata": {},
   "outputs": [],
   "source": [
    "import numpy as np\n",
    "import cv2\n",
    "import os\n",
    "\n",
    "import matplotlib.pyplot as plt\n",
    "\n",
    "from sklearn.model_selection import train_test_split\n",
    "\n",
    "from keras.utils.np_utils import to_categorical\n",
    "from keras.preprocessing.image import ImageDataGenerator\n",
    "from keras.models import Sequential\n",
    "from keras.layers import Dense,Conv2D,Flatten,MaxPool2D,Dropout,BatchNormalization\n",
    "from keras.optimizers import Adam\n",
    "from keras.callbacks import ReduceLROnPlateau"
   ]
  },
  {
   "cell_type": "markdown",
   "metadata": {},
   "source": [
    "# Data Engineering\n",
    "  \n",
    "the order variable will be use later on to do mapping, so we have to make sure it is in the correct order when we transform the data"
   ]
  },
  {
   "cell_type": "code",
   "execution_count": 2,
   "metadata": {},
   "outputs": [],
   "source": [
    "data_path = '../data/hsf_7'\n",
    "order = '0123456789abcdefghijklmnopqrstuvwxyz'"
   ]
  },
  {
   "cell_type": "markdown",
   "metadata": {},
   "source": [
    "Here are the setting for feature engineering, I reduce the image to half (128x128 - 64x64) because my machine cannot handle it that big, 64 is the max I can go. Feel to try it on bigger size if you have better machine. You can reduce to 28x28 it if you machine cannot handle it.\n",
    "  \n",
    "Remember, when you reduce an image size, there will be an information loss. I prefer to keep it in original size if I could."
   ]
  },
  {
   "cell_type": "code",
   "execution_count": 3,
   "metadata": {},
   "outputs": [],
   "source": [
    "#DATA SETTINGS\n",
    "x = []\n",
    "y = []\n",
    "WIDTH = 64\n",
    "HEIGHT = 64\n",
    "DIM = (WIDTH,HEIGHT)\n",
    "TARGET_SIZE = 36"
   ]
  },
  {
   "cell_type": "markdown",
   "metadata": {},
   "source": [
    "This might be not the most optimal way of reading data but, I dont want to spent to much time renaming and checking folders order. You can combine reading digits and aplhabets together but you have to make sure it labeled correctly."
   ]
  },
  {
   "cell_type": "code",
   "execution_count": 4,
   "metadata": {},
   "outputs": [],
   "source": [
    "#reading digit\n",
    "for i,folder in enumerate(sorted(os.listdir(data_path+'/digit'))):\n",
    "    for file in os.listdir(data_path+'/digit/'+folder):\n",
    "        file_path = data_path+'/digit/'+folder+'/'+file\n",
    "        img = cv2.imread(file_path, cv2.IMREAD_GRAYSCALE)\n",
    "        img = cv2.resize(img, DIM, interpolation = cv2.INTER_AREA)\n",
    "        label = i\n",
    "#         plt.figure()\n",
    "#         plt.title(i)\n",
    "#         plt.imshow(img)\n",
    "        x.append(img)\n",
    "        y.append(i)"
   ]
  },
  {
   "cell_type": "code",
   "execution_count": 5,
   "metadata": {},
   "outputs": [],
   "source": [
    "alphabets = []\n",
    "for i,folder in enumerate(sorted(os.listdir(data_path+'/upper'))):\n",
    "    for file in os.listdir(data_path+'/upper/'+folder):\n",
    "        file_path = data_path+'/upper/'+folder+'/'+file\n",
    "        img = cv2.imread(file_path, cv2.IMREAD_GRAYSCALE)\n",
    "        img = cv2.resize(img, DIM, interpolation = cv2.INTER_AREA)\n",
    "        label = i+10\n",
    "#         plt.figure()\n",
    "#         plt.title(i)\n",
    "#         plt.imshow(img)\n",
    "        x.append(img)\n",
    "        y.append(i+10)"
   ]
  },
  {
   "cell_type": "markdown",
   "metadata": {},
   "source": [
    "We will need to use numpy because we will be reshaping the array later on"
   ]
  },
  {
   "cell_type": "code",
   "execution_count": 6,
   "metadata": {},
   "outputs": [],
   "source": [
    "x = np.array(x)\n",
    "y = np.array(to_categorical(y))"
   ]
  },
  {
   "cell_type": "markdown",
   "metadata": {},
   "source": [
    "Checking target size is the same as what we expected - 26 alphabets + 10 digits "
   ]
  },
  {
   "cell_type": "code",
   "execution_count": 48,
   "metadata": {},
   "outputs": [
    {
     "name": "stdout",
     "output_type": "stream",
     "text": [
      "Target size is 36\n"
     ]
    }
   ],
   "source": [
    "print(f\"Target size is {len(y[0])}\")"
   ]
  },
  {
   "cell_type": "markdown",
   "metadata": {},
   "source": [
    "Now we will be split the data into training and testing(validation), \n",
    "\n",
    "random_state - basically just a pseudo number that will make the splitting will be the same on a different run, you can remove it if you want to make it 100% random\n",
    "\n",
    "why 42 ? Its quite funny though, it comes from a novel. [Here](https://en.wikipedia.org/wiki/The_Hitchhiker%27s_Guide_to_the_Galaxy)'s the source.\n"
   ]
  },
  {
   "cell_type": "code",
   "execution_count": 24,
   "metadata": {},
   "outputs": [],
   "source": [
    "X_train, X_test, y_train, y_test = train_test_split(x,y, test_size=0.2, random_state=42)"
   ]
  },
  {
   "cell_type": "code",
   "execution_count": 25,
   "metadata": {},
   "outputs": [],
   "source": [
    "X_train = X_train.reshape(-1,WIDTH,HEIGHT,1)\n",
    "y_train = y_train.reshape(-1,TARGET_SIZE)\n",
    "\n",
    "X_test = X_test.reshape(-1,WIDTH,HEIGHT,1)\n",
    "y_test = y_test.reshape(-1,TARGET_SIZE)"
   ]
  },
  {
   "cell_type": "code",
   "execution_count": 49,
   "metadata": {},
   "outputs": [
    {
     "name": "stdout",
     "output_type": "stream",
     "text": [
      "X train shape (64962, 64, 64, 1)\n",
      "y train shape (64962, 36)\n",
      "\n",
      "X test shape (7219, 64, 64, 1)\n",
      "y test shape (7219, 36)\n"
     ]
    }
   ],
   "source": [
    "print(f\"X train shape {X_train.shape}\")\n",
    "print(f\"y train shape {y_train.shape}\")\n",
    "print()\n",
    "print(f\"X test shape {X_test.shape}\")\n",
    "print(f\"y test shape {y_test.shape}\")"
   ]
  },
  {
   "cell_type": "markdown",
   "metadata": {},
   "source": [
    "A good source explaining [ImageDataGenerator](https://machinelearningmastery.com/how-to-configure-image-data-augmentation-when-training-deep-learning-neural-networks/)\n",
    "\n",
    "Basically, it helps feeding image data into your model with some customization on the image along the way to generalize the model."
   ]
  },
  {
   "cell_type": "code",
   "execution_count": 40,
   "metadata": {},
   "outputs": [],
   "source": [
    "datagen = ImageDataGenerator(\n",
    "        zoom_range = 0.2,  \n",
    "        width_shift_range=0.1, \n",
    "        height_shift_range=0.1,\n",
    "        brightness_range=(0.5,1.5))\n",
    "\n"
   ]
  },
  {
   "cell_type": "code",
   "execution_count": 41,
   "metadata": {},
   "outputs": [],
   "source": [
    "datagen.fit(X_train)"
   ]
  },
  {
   "cell_type": "code",
   "execution_count": 42,
   "metadata": {},
   "outputs": [],
   "source": [
    "#Model Settings\n",
    "EPOCHS = 30\n",
    "BATCH_SIZE = 64"
   ]
  },
  {
   "cell_type": "code",
   "execution_count": 43,
   "metadata": {},
   "outputs": [
    {
     "name": "stdout",
     "output_type": "stream",
     "text": [
      "Model: \"sequential_4\"\n",
      "_________________________________________________________________\n",
      "Layer (type)                 Output Shape              Param #   \n",
      "=================================================================\n",
      "conv2d_22 (Conv2D)           (None, 62, 62, 32)        320       \n",
      "_________________________________________________________________\n",
      "batch_normalization_22 (Batc (None, 62, 62, 32)        128       \n",
      "_________________________________________________________________\n",
      "conv2d_23 (Conv2D)           (None, 60, 60, 32)        9248      \n",
      "_________________________________________________________________\n",
      "batch_normalization_23 (Batc (None, 60, 60, 32)        128       \n",
      "_________________________________________________________________\n",
      "conv2d_24 (Conv2D)           (None, 30, 30, 32)        25632     \n",
      "_________________________________________________________________\n",
      "batch_normalization_24 (Batc (None, 30, 30, 32)        128       \n",
      "_________________________________________________________________\n",
      "dropout_10 (Dropout)         (None, 30, 30, 32)        0         \n",
      "_________________________________________________________________\n",
      "conv2d_25 (Conv2D)           (None, 28, 28, 64)        18496     \n",
      "_________________________________________________________________\n",
      "batch_normalization_25 (Batc (None, 28, 28, 64)        256       \n",
      "_________________________________________________________________\n",
      "conv2d_26 (Conv2D)           (None, 26, 26, 64)        36928     \n",
      "_________________________________________________________________\n",
      "batch_normalization_26 (Batc (None, 26, 26, 64)        256       \n",
      "_________________________________________________________________\n",
      "conv2d_27 (Conv2D)           (None, 13, 13, 64)        102464    \n",
      "_________________________________________________________________\n",
      "batch_normalization_27 (Batc (None, 13, 13, 64)        256       \n",
      "_________________________________________________________________\n",
      "dropout_11 (Dropout)         (None, 13, 13, 64)        0         \n",
      "_________________________________________________________________\n",
      "conv2d_28 (Conv2D)           (None, 10, 10, 128)       131200    \n",
      "_________________________________________________________________\n",
      "batch_normalization_28 (Batc (None, 10, 10, 128)       512       \n",
      "_________________________________________________________________\n",
      "flatten_4 (Flatten)          (None, 12800)             0         \n",
      "_________________________________________________________________\n",
      "dropout_12 (Dropout)         (None, 12800)             0         \n",
      "_________________________________________________________________\n",
      "dense_4 (Dense)              (None, 36)                460836    \n",
      "=================================================================\n",
      "Total params: 786,788\n",
      "Trainable params: 785,956\n",
      "Non-trainable params: 832\n",
      "_________________________________________________________________\n"
     ]
    }
   ],
   "source": [
    "model = Sequential()\n",
    "model.add(Conv2D(32, kernel_size = 3, activation='relu',\n",
    "                 input_shape = (WIDTH,HEIGHT,1)))\n",
    "model.add(BatchNormalization())\n",
    "model.add(Conv2D(32, kernel_size = 3, activation='relu'))\n",
    "model.add(BatchNormalization())\n",
    "model.add(Conv2D(32, kernel_size = 5, strides=2, padding='same', activation='relu'))\n",
    "model.add(BatchNormalization())\n",
    "model.add(Dropout(0.5))\n",
    "\n",
    "model.add(Conv2D(64, kernel_size = 3, activation='relu'))\n",
    "model.add(BatchNormalization())\n",
    "model.add(Conv2D(64, kernel_size = 3, activation='relu'))\n",
    "model.add(BatchNormalization())\n",
    "model.add(Conv2D(64, kernel_size = 5, strides=2, padding='same', activation='relu'))\n",
    "model.add(BatchNormalization())\n",
    "model.add(Dropout(0.5))\n",
    "\n",
    "model.add(Conv2D(128, kernel_size = 4, activation='relu'))\n",
    "model.add(BatchNormalization())\n",
    "model.add(Flatten())\n",
    "model.add(Dropout(0.5))\n",
    "model.add(Dense(CHARACTER_SIZE, activation='softmax'))\n",
    "\n",
    "model.summary()"
   ]
  },
  {
   "cell_type": "code",
   "execution_count": 44,
   "metadata": {},
   "outputs": [],
   "source": [
    "model.compile(optimizer=Adam(lr=0.001), loss=\"categorical_crossentropy\", metrics=[\"accuracy\"])"
   ]
  },
  {
   "cell_type": "code",
   "execution_count": 45,
   "metadata": {},
   "outputs": [
    {
     "name": "stdout",
     "output_type": "stream",
     "text": [
      "Epoch 1/30\n",
      "1015/1015 [==============================] - 83s 82ms/step - loss: 1.9503 - accuracy: 0.5991 - val_loss: 0.6972 - val_accuracy: 0.8521\n",
      "Epoch 2/30\n",
      "1015/1015 [==============================] - 81s 80ms/step - loss: 0.5985 - accuracy: 0.8486 - val_loss: 0.2779 - val_accuracy: 0.9253\n",
      "Epoch 3/30\n",
      "1015/1015 [==============================] - 81s 80ms/step - loss: 0.4021 - accuracy: 0.8927 - val_loss: 15.4041 - val_accuracy: 0.0256\n",
      "Epoch 4/30\n",
      "1015/1015 [==============================] - 81s 80ms/step - loss: 0.3145 - accuracy: 0.9129 - val_loss: 0.7120 - val_accuracy: 0.7680\n",
      "Epoch 5/30\n",
      "1015/1015 [==============================] - 84s 82ms/step - loss: 0.2818 - accuracy: 0.9220 - val_loss: 0.1345 - val_accuracy: 0.9620\n",
      "Epoch 6/30\n",
      "1015/1015 [==============================] - 84s 83ms/step - loss: 0.2522 - accuracy: 0.9302 - val_loss: 0.1952 - val_accuracy: 0.9415\n",
      "Epoch 7/30\n",
      "1015/1015 [==============================] - 83s 82ms/step - loss: 0.2347 - accuracy: 0.9341 - val_loss: 0.1692 - val_accuracy: 0.9519\n",
      "Epoch 8/30\n",
      "1015/1015 [==============================] - 84s 82ms/step - loss: 0.2059 - accuracy: 0.9410 - val_loss: 0.1569 - val_accuracy: 0.9600\n",
      "Epoch 9/30\n",
      "1015/1015 [==============================] - 83s 82ms/step - loss: 0.1962 - accuracy: 0.9441 - val_loss: 6.4127 - val_accuracy: 0.4066\n",
      "Epoch 10/30\n",
      "1015/1015 [==============================] - 84s 82ms/step - loss: 0.1877 - accuracy: 0.9467 - val_loss: 0.1550 - val_accuracy: 0.9607\n",
      "\n",
      "Epoch 00010: ReduceLROnPlateau reducing learning rate to 0.0005000000237487257.\n",
      "Epoch 11/30\n",
      "1015/1015 [==============================] - 84s 83ms/step - loss: 0.1562 - accuracy: 0.9543 - val_loss: 0.1106 - val_accuracy: 0.9681\n",
      "Epoch 12/30\n",
      "1015/1015 [==============================] - 84s 82ms/step - loss: 0.1561 - accuracy: 0.9564 - val_loss: 1.8742 - val_accuracy: 0.5851\n",
      "Epoch 13/30\n",
      "1015/1015 [==============================] - 83s 82ms/step - loss: 0.1453 - accuracy: 0.9587 - val_loss: 0.0985 - val_accuracy: 0.9720\n",
      "Epoch 14/30\n",
      "1015/1015 [==============================] - 82s 80ms/step - loss: 0.1431 - accuracy: 0.9584 - val_loss: 9.5709 - val_accuracy: 0.1923\n",
      "Epoch 15/30\n",
      "1015/1015 [==============================] - 82s 81ms/step - loss: 0.1386 - accuracy: 0.9593 - val_loss: 0.0997 - val_accuracy: 0.9709\n",
      "Epoch 16/30\n",
      "1015/1015 [==============================] - 83s 82ms/step - loss: 0.1355 - accuracy: 0.9598 - val_loss: 0.0972 - val_accuracy: 0.9722\n",
      "Epoch 17/30\n",
      "1015/1015 [==============================] - 84s 82ms/step - loss: 0.1409 - accuracy: 0.9597 - val_loss: 0.0967 - val_accuracy: 0.9727\n",
      "Epoch 18/30\n",
      "1015/1015 [==============================] - 83s 82ms/step - loss: 0.1346 - accuracy: 0.9607 - val_loss: 0.0959 - val_accuracy: 0.9737\n",
      "Epoch 19/30\n",
      "1015/1015 [==============================] - 83s 82ms/step - loss: 0.1335 - accuracy: 0.9619 - val_loss: 0.0970 - val_accuracy: 0.9731\n",
      "Epoch 20/30\n",
      "1015/1015 [==============================] - 83s 82ms/step - loss: 0.1422 - accuracy: 0.9605 - val_loss: 0.0977 - val_accuracy: 0.9712\n",
      "Epoch 21/30\n",
      "1015/1015 [==============================] - 83s 82ms/step - loss: 0.1255 - accuracy: 0.9634 - val_loss: 0.0950 - val_accuracy: 0.9717\n",
      "Epoch 22/30\n",
      "1015/1015 [==============================] - 83s 82ms/step - loss: 0.1235 - accuracy: 0.9645 - val_loss: 0.0952 - val_accuracy: 0.9733\n",
      "Epoch 23/30\n",
      "1015/1015 [==============================] - 84s 82ms/step - loss: 0.1259 - accuracy: 0.9635 - val_loss: 0.0992 - val_accuracy: 0.9742\n",
      "Epoch 24/30\n",
      "1015/1015 [==============================] - 83s 82ms/step - loss: 0.1184 - accuracy: 0.9653 - val_loss: 0.0987 - val_accuracy: 0.9727\n",
      "Epoch 25/30\n",
      "1015/1015 [==============================] - 84s 82ms/step - loss: 0.1207 - accuracy: 0.9641 - val_loss: 0.0923 - val_accuracy: 0.9741\n",
      "Epoch 26/30\n",
      "1015/1015 [==============================] - 83s 82ms/step - loss: 0.1258 - accuracy: 0.9639 - val_loss: 0.1010 - val_accuracy: 0.9710\n",
      "Epoch 27/30\n",
      "1015/1015 [==============================] - 83s 82ms/step - loss: 0.1284 - accuracy: 0.9628 - val_loss: 0.0914 - val_accuracy: 0.9744\n",
      "Epoch 28/30\n",
      "1015/1015 [==============================] - 84s 83ms/step - loss: 0.1166 - accuracy: 0.9654 - val_loss: 0.0941 - val_accuracy: 0.9737\n",
      "Epoch 29/30\n",
      "1015/1015 [==============================] - 84s 82ms/step - loss: 0.1196 - accuracy: 0.9647 - val_loss: 10.4582 - val_accuracy: 0.1461\n",
      "Epoch 30/30\n",
      "1015/1015 [==============================] - 84s 82ms/step - loss: 0.1135 - accuracy: 0.9659 - val_loss: 0.1100 - val_accuracy: 0.9681\n"
     ]
    }
   ],
   "source": [
    "history = model.fit(datagen.flow(X_train,y_train, batch_size=BATCH_SIZE),\n",
    "                              epochs = EPOCHS,\n",
    "#                               batch_size=BATCH_SIZE,\n",
    "                              validation_data = (X_test,y_test),\n",
    "                              verbose = 1,\n",
    "                              steps_per_epoch=X_train.shape[0] // BATCH_SIZE,\n",
    "                              callbacks=[ReduceLROnPlateau(monitor='val_accuracy',\n",
    "                               patience=5,\n",
    "                               verbose=1,\n",
    "                               factor=0.5,\n",
    "                               min_lr=0.000001)])"
   ]
  },
  {
   "cell_type": "markdown",
   "metadata": {},
   "source": [
    "# Model Evaluation"
   ]
  },
  {
   "cell_type": "code",
   "execution_count": 50,
   "metadata": {},
   "outputs": [
    {
     "data": {
      "image/png": "[encoded data removed]",
      "text/plain": [
       "<Figure size 1080x360 with 1 Axes>"
      ]
     },
     "metadata": {
      "needs_background": "light"
     },
     "output_type": "display_data"
    },
    {
     "data": {
      "image/png": "[encoded data removed]",
      "text/plain": [
       "<Figure size 1080x360 with 1 Axes>"
      ]
     },
     "metadata": {
      "needs_background": "light"
     },
     "output_type": "display_data"
    }
   ],
   "source": [
    "plt.figure(figsize=(15,5))\n",
    "plt.plot(history.history['val_accuracy'], label = 'validation')\n",
    "plt.plot(history.history['accuracy'], label = 'training')\n",
    "plt.title('model accuracy')\n",
    "plt.ylabel('accuracy')\n",
    "plt.xlabel('epoch')\n",
    "plt.legend()\n",
    "axes = plt.gca()\n",
    "# axes.set_ylim([0.98,1])\n",
    "\n",
    "plt.figure(figsize=(15,5))\n",
    "plt.plot(history.history['val_loss'], label = 'validation')\n",
    "plt.plot(history.history['loss'], label = 'training')\n",
    "plt.title('model loss')\n",
    "plt.ylabel('accuracy')\n",
    "plt.xlabel('epoch')\n",
    "plt.legend()\n",
    "\n",
    "plt.show()"
   ]
  },
  {
   "cell_type": "markdown",
   "metadata": {},
   "source": [
    "Well not so bad, but I prefer a smoother learning. WIP, tweaking the dropout and layer of model"
   ]
  },
  {
   "cell_type": "code",
   "execution_count": 56,
   "metadata": {},
   "outputs": [
    {
     "name": "stdout",
     "output_type": "stream",
     "text": [
      "7219/7219 [==============================] - 3s 447us/step\n",
      "accuracy: 96.81%\n"
     ]
    }
   ],
   "source": [
    "score = model.evaluate(X_test, y_test, verbose=1)\n",
    "print(\"%s: %.2f%%\" % (model.metrics_names[1], score[1]*100))"
   ]
  },
  {
   "cell_type": "code",
   "execution_count": 57,
   "metadata": {},
   "outputs": [],
   "source": [
    "#TODO: Confusion Matrix"
   ]
  },
  {
   "cell_type": "markdown",
   "metadata": {},
   "source": [
    "# Saving Model\n",
    "\n",
    "Various way loading model can be found [here](https://machinelearningmastery.com/save-load-keras-deep-learning-models/)\n",
    "  \n",
    "I chose to save model including with weights as it will ease the process to load it later on"
   ]
  },
  {
   "cell_type": "code",
   "execution_count": 51,
   "metadata": {},
   "outputs": [
    {
     "name": "stdout",
     "output_type": "stream",
     "text": [
      "Saved model to disk\n"
     ]
    }
   ],
   "source": [
    "model.save(\"../data/ocr_model.h5\")\n",
    "print(\"Saved model to disk\")\n"
   ]
  },
  {
   "cell_type": "code",
   "execution_count": null,
   "metadata": {},
   "outputs": [],
   "source": []
  }
 ],
 "metadata": {
  "kernelspec": {
   "display_name": "Python 3",
   "language": "python",
   "name": "python3"
  },
  "language_info": {
   "codemirror_mode": {
    "name": "ipython",
    "version": 3
   },
   "file_extension": ".py",
   "mimetype": "text/x-python",
   "name": "python",
   "nbconvert_exporter": "python",
   "pygments_lexer": "ipython3",
   "version": "3.7.3"
  }
 },
 "nbformat": 4,
 "nbformat_minor": 2
}
